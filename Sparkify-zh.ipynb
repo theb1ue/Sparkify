{
 "cells": [
  {
   "cell_type": "markdown",
   "metadata": {},
   "source": [
    "# Sparkify 项目 Workspace\n",
    "这个 Workspace 包括一个迷你的子数据集（128MB），是完整数据集（12GB）的一个子集。在将你的项目部署到云上之前，你可以自由使用 Workspace 来创建你的项目或用Spark来探索这个较小数据集。设置 Spark 集群的指南可以在选修 Spark 课程的内容里找到。\n",
    "\n",
    "你可以依照下面的步骤进行项目的数据分析和模型搭建部分。"
   ]
  },
  {
   "cell_type": "code",
   "execution_count": 54,
   "metadata": {},
   "outputs": [],
   "source": [
    "# import libraries\n",
    "from pyspark.sql import SparkSession\n",
    "from pyspark.sql.window import Window\n",
    "from pyspark.sql.functions import isnan, count, when, col, desc, udf, col, sort_array, asc, avg\n",
    "from pyspark.sql.functions import mean, datediff, max, min, round,ceil,split,trim\n",
    "from pyspark.sql.functions import sum as Fsum\n",
    "from pyspark.sql.types import IntegerType\n",
    "from pyspark.ml.feature import StringIndexer,VectorAssembler,StandardScaler\n",
    "from pyspark.ml.classification import LogisticRegression,GBTClassifier,LinearSVC,RandomForestClassifier\n",
    "from pyspark.ml.evaluation import MulticlassClassificationEvaluator,BinaryClassificationEvaluator\n",
    "from pyspark.ml import Pipeline\n",
    "from pyspark.ml.tuning import ParamGridBuilder,CrossValidator\n",
    "\n",
    "import matplotlib.pyplot as plt\n",
    "import seaborn as sb\n",
    "import pandas as pd\n",
    "import datetime \n",
    "import time\n",
    "import numpy as np\n",
    "\n",
    "%matplotlib inline"
   ]
  },
  {
   "cell_type": "code",
   "execution_count": 55,
   "metadata": {},
   "outputs": [],
   "source": [
    "# create a Spark session\n",
    "spark=SparkSession.builder.appName('Data Frames spark').getOrCreate()"
   ]
  },
  {
   "cell_type": "markdown",
   "metadata": {},
   "source": [
    "# 加载和清洗数据\n",
    "在这个 Workspace 中，小数据集的名称是 `mini_sparkify_event_data.json`.加载和清洗数据集，检查是否有无效或缺失数据——例如，没有userid或sessionid的数据。 "
   ]
  },
  {
   "cell_type": "code",
   "execution_count": 56,
   "metadata": {},
   "outputs": [],
   "source": [
    "#加载数据mini_sparkify_event_data.json\n",
    "df=spark.read.json('mini_sparkify_event_data.json')\n",
    "df.createOrReplaceTempView('log_table')"
   ]
  },
  {
   "cell_type": "code",
   "execution_count": 57,
   "metadata": {},
   "outputs": [
    {
     "name": "stdout",
     "output_type": "stream",
     "text": [
      "root\n",
      " |-- artist: string (nullable = true)\n",
      " |-- auth: string (nullable = true)\n",
      " |-- firstName: string (nullable = true)\n",
      " |-- gender: string (nullable = true)\n",
      " |-- itemInSession: long (nullable = true)\n",
      " |-- lastName: string (nullable = true)\n",
      " |-- length: double (nullable = true)\n",
      " |-- level: string (nullable = true)\n",
      " |-- location: string (nullable = true)\n",
      " |-- method: string (nullable = true)\n",
      " |-- page: string (nullable = true)\n",
      " |-- registration: long (nullable = true)\n",
      " |-- sessionId: long (nullable = true)\n",
      " |-- song: string (nullable = true)\n",
      " |-- status: long (nullable = true)\n",
      " |-- ts: long (nullable = true)\n",
      " |-- userAgent: string (nullable = true)\n",
      " |-- userId: string (nullable = true)\n",
      "\n",
      "+--------+\n",
      "|count(0)|\n",
      "+--------+\n",
      "|  286500|\n",
      "+--------+\n",
      "\n",
      "+--------+\n",
      "|count(0)|\n",
      "+--------+\n",
      "|    8346|\n",
      "+--------+\n",
      "\n",
      "+----------+\n",
      "|      auth|\n",
      "+----------+\n",
      "|Logged Out|\n",
      "| Cancelled|\n",
      "|     Guest|\n",
      "| Logged In|\n",
      "+----------+\n",
      "\n",
      "+-----+\n",
      "|level|\n",
      "+-----+\n",
      "| free|\n",
      "| paid|\n",
      "+-----+\n",
      "\n",
      "+------+\n",
      "|status|\n",
      "+------+\n",
      "|   307|\n",
      "|   404|\n",
      "|   200|\n",
      "+------+\n",
      "\n",
      "+-------------+\n",
      "|           ts|\n",
      "+-------------+\n",
      "|1538360520000|\n",
      "|1538368903000|\n",
      "|1538380099000|\n",
      "|1538380879000|\n",
      "|1538390386000|\n",
      "|1538390440000|\n",
      "|1538399222000|\n",
      "|1538402692000|\n",
      "|1538405492000|\n",
      "|1538411816000|\n",
      "|1538420258000|\n",
      "|1538422643000|\n",
      "|1538423103000|\n",
      "|1538428266000|\n",
      "|1538433192000|\n",
      "|1538435390000|\n",
      "|1538439836000|\n",
      "|1538453678000|\n",
      "|1538471202000|\n",
      "|1538494626000|\n",
      "+-------------+\n",
      "only showing top 20 rows\n",
      "\n",
      "+--------------------+\n",
      "|                page|\n",
      "+--------------------+\n",
      "|              Cancel|\n",
      "|    Submit Downgrade|\n",
      "|         Thumbs Down|\n",
      "|                Home|\n",
      "|           Downgrade|\n",
      "|         Roll Advert|\n",
      "|              Logout|\n",
      "|       Save Settings|\n",
      "|Cancellation Conf...|\n",
      "|               About|\n",
      "| Submit Registration|\n",
      "|            Settings|\n",
      "|               Login|\n",
      "|            Register|\n",
      "|     Add to Playlist|\n",
      "|          Add Friend|\n",
      "|            NextSong|\n",
      "|           Thumbs Up|\n",
      "|                Help|\n",
      "|             Upgrade|\n",
      "+--------------------+\n",
      "only showing top 20 rows\n",
      "\n",
      "+---------+-----+-------------+------+-------------+------+-------------+------+\n",
      "|     auth|level|iteminsession|  page| registration|status|           ts|userid|\n",
      "+---------+-----+-------------+------+-------------+------+-------------+------+\n",
      "|Logged In| paid|           39|Logout|1538336771000|   307|1543622122000|300011|\n",
      "+---------+-----+-------------+------+-------------+------+-------------+------+\n",
      "only showing top 1 row\n",
      "\n",
      "+---------+-----+-------------+--------------------+-------------+------+-------------+------+\n",
      "|     auth|level|iteminsession|                page| registration|status|           ts|userid|\n",
      "+---------+-----+-------------+--------------------+-------------+------+-------------+------+\n",
      "|Cancelled| paid|          201|Cancellation Conf...|1533522419000|   200|1543491909000|100007|\n",
      "+---------+-----+-------------+--------------------+-------------+------+-------------+------+\n",
      "only showing top 1 row\n",
      "\n",
      "+----------------+---------+---------+------+-------------+--------+---------+-----+--------------------+------+--------+-------------+---------+--------------------+------+-------------+--------------------+------+\n",
      "|          artist|     auth|firstName|gender|itemInSession|lastName|   length|level|            location|method|    page| registration|sessionId|                song|status|           ts|           userAgent|userId|\n",
      "+----------------+---------+---------+------+-------------+--------+---------+-----+--------------------+------+--------+-------------+---------+--------------------+------+-------------+--------------------+------+\n",
      "|  Martha Tilston|Logged In|    Colin|     M|           50| Freeman|277.89016| paid|     Bakersfield, CA|   PUT|NextSong|1538173362000|       29|           Rockpools|   200|1538352117000|Mozilla/5.0 (Wind...|    30|\n",
      "|Five Iron Frenzy|Logged In|    Micah|     M|           79|    Long|236.09424| free|Boston-Cambridge-...|   PUT|NextSong|1538331630000|        8|              Canada|   200|1538352180000|\"Mozilla/5.0 (Win...|     9|\n",
      "|    Adam Lambert|Logged In|    Colin|     M|           51| Freeman| 282.8273| paid|     Bakersfield, CA|   PUT|NextSong|1538173362000|       29|   Time For Miracles|   200|1538352394000|Mozilla/5.0 (Wind...|    30|\n",
      "|          Enigma|Logged In|    Micah|     M|           80|    Long|262.71302| free|Boston-Cambridge-...|   PUT|NextSong|1538331630000|        8|Knocking On Forbi...|   200|1538352416000|\"Mozilla/5.0 (Win...|     9|\n",
      "|       Daft Punk|Logged In|    Colin|     M|           52| Freeman|223.60771| paid|     Bakersfield, CA|   PUT|NextSong|1538173362000|       29|Harder Better Fas...|   200|1538352676000|Mozilla/5.0 (Wind...|    30|\n",
      "+----------------+---------+---------+------+-------------+--------+---------+-----+--------------------+------+--------+-------------+---------+--------------------+------+-------------+--------------------+------+\n",
      "only showing top 5 rows\n",
      "\n"
     ]
    }
   ],
   "source": [
    "#查询数据及结构\n",
    "df.printSchema()\n",
    "spark.sql(\"select count(0) from log_table\").show()\n",
    "spark.sql(\"select count(0) from log_table where userId = ''\").show()\n",
    "spark.sql(\"select distinct auth from log_table \").show()\n",
    "spark.sql(\"select distinct level from log_table \").show()\n",
    "spark.sql(\"select distinct status from log_table \").show()\n",
    "spark.sql(\"select distinct ts from log_table \").show()\n",
    "spark.sql(\"select distinct page from log_table \").show()\n",
    "spark.sql(\"select auth,level,iteminsession,page,registration,status,\\\n",
    "          ts,userid from log_table where \\\n",
    "          page in ('Cancel','Submit Downgrade','Downgrade','Roll Advert','Logout')\\\n",
    "          and level ='paid'\\\n",
    "          order by ts desc\").show(1)\n",
    "\n",
    "spark.sql(\"select auth,level,iteminsession,page,registration,status,\\\n",
    "          ts,userid from log_table where \\\n",
    "          userid='100007'\\\n",
    "          order by ts desc\").show(1) \n",
    "\n",
    "spark.sql(\"select * from log_table\").show(5) "
   ]
  },
  {
   "cell_type": "code",
   "execution_count": 58,
   "metadata": {},
   "outputs": [
    {
     "name": "stdout",
     "output_type": "stream",
     "text": [
      "+--------------------------------------+\n",
      "|location                              |\n",
      "+--------------------------------------+\n",
      "|Gainesville, FL                       |\n",
      "|Atlantic City-Hammonton, NJ           |\n",
      "|Deltona-Daytona Beach-Ormond Beach, FL|\n",
      "+--------------------------------------+\n",
      "only showing top 3 rows\n",
      "\n"
     ]
    }
   ],
   "source": [
    "spark.sql(\"select distinct location from log_table \").show(3,False)"
   ]
  },
  {
   "cell_type": "code",
   "execution_count": 9,
   "metadata": {},
   "outputs": [
    {
     "name": "stdout",
     "output_type": "stream",
     "text": [
      "+--------+\n",
      "|count(0)|\n",
      "+--------+\n",
      "|    8346|\n",
      "+--------+\n",
      "\n",
      "+--------+\n",
      "|count(0)|\n",
      "+--------+\n",
      "|    8346|\n",
      "+--------+\n",
      "\n",
      "+--------+\n",
      "|count(0)|\n",
      "+--------+\n",
      "|   58392|\n",
      "+--------+\n",
      "\n",
      "+--------+\n",
      "|count(0)|\n",
      "+--------+\n",
      "|       0|\n",
      "+--------+\n",
      "\n",
      "+--------+\n",
      "|count(0)|\n",
      "+--------+\n",
      "|    8346|\n",
      "+--------+\n",
      "\n",
      "+--------+\n",
      "|count(0)|\n",
      "+--------+\n",
      "|       0|\n",
      "+--------+\n",
      "\n",
      "+--------+\n",
      "|count(0)|\n",
      "+--------+\n",
      "|    8346|\n",
      "+--------+\n",
      "\n",
      "+--------+\n",
      "|count(0)|\n",
      "+--------+\n",
      "|       0|\n",
      "+--------+\n",
      "\n"
     ]
    }
   ],
   "source": [
    "#查询空的数据\n",
    "spark.sql(\"select count(0) from log_table where userId = '' or userId is null\" ).show()\n",
    "spark.sql(\"select count(0) from log_table where gender = '' or gender is null\").show()\n",
    "spark.sql(\"select count(0) from log_table where length = '' or length is null\").show()\n",
    "spark.sql(\"select count(0) from log_table where level = '' or level is null\").show()\n",
    "spark.sql(\"select count(0) from log_table where location = '' or location is null\").show()\n",
    "spark.sql(\"select count(0) from log_table where Page = '' or Page is null\").show()\n",
    "spark.sql(\"select count(0) from log_table where registration = '' or registration is null\").show()\n",
    "spark.sql(\"select count(0) from log_table where ts = '' or ts is null\").show()\n",
    "\n",
    "#spark.sql(\"select 'gender','length','level','location','Page',\\\n",
    "#          'registration','ts','userID' from log_table \").show(1)"
   ]
  },
  {
   "cell_type": "code",
   "execution_count": 59,
   "metadata": {},
   "outputs": [],
   "source": [
    "#清理数据，删除userid为空的数据\n",
    "df = df.filter(df.userId != '')\n",
    "#其他为空的数据怎么处理？\n",
    "#avg(df.length)\n",
    "#df.select(avg(\"length\")).show()\n",
    "df = df.fillna(249.1171819778458)\n",
    "#spark.sql(\"select 'gender','length','level','location','Page','registration','ts','userID' from log_table \").show(1)\n",
    "#增加area从location中提取区域信息\n",
    "df=df.withColumn('area',trim(split(df.location, ',')[1]))"
   ]
  },
  {
   "cell_type": "code",
   "execution_count": 60,
   "metadata": {},
   "outputs": [
    {
     "name": "stdout",
     "output_type": "stream",
     "text": [
      "+------+----+---------+------+-------------+--------+------+-----+--------+------+----+------------+---------+----+------+---+---------+------+----+\n",
      "|artist|auth|firstName|gender|itemInSession|lastName|length|level|location|method|page|registration|sessionId|song|status| ts|userAgent|userId|area|\n",
      "+------+----+---------+------+-------------+--------+------+-----+--------+------+----+------------+---------+----+------+---+---------+------+----+\n",
      "+------+----+---------+------+-------------+--------+------+-----+--------+------+----+------------+---------+----+------+---+---------+------+----+\n",
      "\n",
      "+------+----+---------+------+-------------+--------+------+-----+--------+------+----+------------+---------+----+------+---+---------+------+----+\n",
      "|artist|auth|firstName|gender|itemInSession|lastName|length|level|location|method|page|registration|sessionId|song|status| ts|userAgent|userId|area|\n",
      "+------+----+---------+------+-------------+--------+------+-----+--------+------+----+------------+---------+----+------+---+---------+------+----+\n",
      "+------+----+---------+------+-------------+--------+------+-----+--------+------+----+------------+---------+----+------+---+---------+------+----+\n",
      "\n",
      "+------+----+---------+------+-------------+--------+------+-----+--------+------+----+------------+---------+----+------+---+---------+------+----+\n",
      "|artist|auth|firstName|gender|itemInSession|lastName|length|level|location|method|page|registration|sessionId|song|status| ts|userAgent|userId|area|\n",
      "+------+----+---------+------+-------------+--------+------+-----+--------+------+----+------------+---------+----+------+---+---------+------+----+\n",
      "+------+----+---------+------+-------------+--------+------+-----+--------+------+----+------------+---------+----+------+---+---------+------+----+\n",
      "\n",
      "+-----------+\n",
      "|       area|\n",
      "+-----------+\n",
      "|         AK|\n",
      "|         AL|\n",
      "|         AR|\n",
      "|         AZ|\n",
      "|         CA|\n",
      "|         CO|\n",
      "|         CT|\n",
      "|DC-VA-MD-WV|\n",
      "|         FL|\n",
      "|         GA|\n",
      "|      GA-AL|\n",
      "|         IA|\n",
      "|         IL|\n",
      "|   IL-IN-WI|\n",
      "|      IL-MO|\n",
      "|         IN|\n",
      "|         KY|\n",
      "|      KY-IN|\n",
      "|         LA|\n",
      "|      MA-NH|\n",
      "|         MD|\n",
      "|      MD-WV|\n",
      "|         MI|\n",
      "|      MN-WI|\n",
      "|      MO-IL|\n",
      "|      MO-KS|\n",
      "|         MS|\n",
      "|         MT|\n",
      "|         NC|\n",
      "|      NC-SC|\n",
      "|      NE-IA|\n",
      "|         NH|\n",
      "|         NJ|\n",
      "|         NV|\n",
      "|         NY|\n",
      "|   NY-NJ-PA|\n",
      "|         OH|\n",
      "|   OH-KY-IN|\n",
      "|         OK|\n",
      "|         OR|\n",
      "|      OR-WA|\n",
      "|         PA|\n",
      "|      PA-NJ|\n",
      "|PA-NJ-DE-MD|\n",
      "|      RI-MA|\n",
      "|         SC|\n",
      "|      SC-NC|\n",
      "|         TN|\n",
      "|   TN-MS-AR|\n",
      "|      TN-VA|\n",
      "+-----------+\n",
      "only showing top 50 rows\n",
      "\n"
     ]
    }
   ],
   "source": [
    "#验证空值清理的情况\n",
    "df.filter(df.length.isNull()).show(5)\n",
    "df.filter(df.userId.isNull()).show(5)\n",
    "df.filter(df.userId == '').show(5)\n",
    "df.select('area').dropDuplicates().orderBy('area').show(50)"
   ]
  },
  {
   "cell_type": "code",
   "execution_count": 61,
   "metadata": {},
   "outputs": [],
   "source": [
    "#获取年月日方法\n",
    "get_weekday = udf(lambda x: datetime.datetime.fromtimestamp(x/1000).weekday(),IntegerType())\n",
    "get_month = udf(lambda x: datetime.datetime.fromtimestamp(x/1000).month,IntegerType())\n",
    "get_day = udf(lambda x: datetime.datetime.fromtimestamp(x/1000).day,IntegerType())"
   ]
  },
  {
   "cell_type": "code",
   "execution_count": 62,
   "metadata": {},
   "outputs": [],
   "source": [
    "#根据registration衍生出了3个特征，分别是年月日\n",
    "df = df.withColumn('registration_weekday',get_weekday(df.registration))\n",
    "df = df.withColumn('registration_month',get_month(df.registration))\n",
    "df = df.withColumn('registration_day',get_day(df.registration))\n",
    "#根据ts衍生出了3个特征，分别是年月日\n",
    "df = df.withColumn('ts_weekday',get_weekday(df.ts))\n",
    "df = df.withColumn('ts_month',get_month(df.ts))\n",
    "df = df.withColumn('ts_day',get_day(df.ts))"
   ]
  },
  {
   "cell_type": "code",
   "execution_count": 63,
   "metadata": {},
   "outputs": [],
   "source": [
    "#定义一个窗口来筛选前后数据\n",
    "user_window = Window \\\n",
    "    .partitionBy('userID') \\\n",
    "    .orderBy(desc('ts')) \\\n",
    "    .rangeBetween(Window.unboundedPreceding, Window.unboundedFollowing)\n",
    "#定义Cancellation Confirmation为用户取消的标示\n",
    "isCancel=udf(lambda x: int(x == 'Cancellation Confirmation'),IntegerType())\n",
    "#筛选数据，把用户取消的标示同步到所有的数据\n",
    "cusm = df.select('gender','length','location','Page','registration','ts','userID','registration_weekday'\n",
    "                ,'registration_month','registration_day','ts_weekday','ts_month','ts_day','area')\\\n",
    "    .filter(df.level == 'paid')\\\n",
    "    .withColumn('Churn', Fsum(isCancel(df.page)).over(user_window))\\\n",
    "    .withColumn('ts_length', ceil((max('ts').over(user_window)-min('ts').over(user_window))/86400000))"
   ]
  },
  {
   "cell_type": "markdown",
   "metadata": {},
   "source": [
    "# 探索性数据分析\n",
    "当你使用完整数据集时，通过加载小数据集，在 Spark 中完成基础操作来实现探索性数据分析。在这个 Workspace 中，我们已经提供给你一个你可以探索的小数据集。\n",
    "\n",
    "### 定义客户流失\n",
    "在你完成初步分析之后，创建一列 `Churn` 作为模型的标签。我建议你使用 `Cancellation Confirmation` 事件来定义客户流失，该事件在付费或免费客户身上都有发生。作为一个奖励任务，你也可以深入了解 `Downgrade` 事件。\n",
    "\n",
    "### 探索数据\n",
    "你定义好客户流失后，就可以执行一些探索性数据分析，观察留存用户和流失用户的行为。你可以首先把这两类用户的数据聚合到一起，观察固定时间内某个特定动作出现的次数或者播放音乐的数量。"
   ]
  },
  {
   "cell_type": "code",
   "execution_count": 64,
   "metadata": {},
   "outputs": [
    {
     "data": {
      "text/plain": [
       "[Row(gender='M', length=249.1171819778458, location='Chicago-Naperville-Elgin, IL-IN-WI', Page='Thumbs Up', registration=1536269906000, ts=1542324354000, userID='200002', registration_weekday=3, registration_month=9, registration_day=6, ts_weekday=3, ts_month=11, ts_day=15, area='IL-IN-WI', Churn=0, ts_length=29),\n",
       " Row(gender='M', length=149.57669, location='Chicago-Naperville-Elgin, IL-IN-WI', Page='NextSong', registration=1536269906000, ts=1542324353000, userID='200002', registration_weekday=3, registration_month=9, registration_day=6, ts_weekday=3, ts_month=11, ts_day=15, area='IL-IN-WI', Churn=0, ts_length=29),\n",
       " Row(gender='M', length=202.91873, location='Chicago-Naperville-Elgin, IL-IN-WI', Page='NextSong', registration=1536269906000, ts=1542324151000, userID='200002', registration_weekday=3, registration_month=9, registration_day=6, ts_weekday=3, ts_month=11, ts_day=15, area='IL-IN-WI', Churn=0, ts_length=29),\n",
       " Row(gender='M', length=252.96934, location='Chicago-Naperville-Elgin, IL-IN-WI', Page='NextSong', registration=1536269906000, ts=1542323899000, userID='200002', registration_weekday=3, registration_month=9, registration_day=6, ts_weekday=3, ts_month=11, ts_day=15, area='IL-IN-WI', Churn=0, ts_length=29),\n",
       " Row(gender='M', length=170.63138, location='Chicago-Naperville-Elgin, IL-IN-WI', Page='NextSong', registration=1536269906000, ts=1542323729000, userID='200002', registration_weekday=3, registration_month=9, registration_day=6, ts_weekday=3, ts_month=11, ts_day=15, area='IL-IN-WI', Churn=0, ts_length=29)]"
      ]
     },
     "execution_count": 64,
     "metadata": {},
     "output_type": "execute_result"
    }
   ],
   "source": [
    "cusm.take(5)"
   ]
  },
  {
   "cell_type": "code",
   "execution_count": 65,
   "metadata": {},
   "outputs": [
    {
     "data": {
      "text/plain": [
       "<matplotlib.axes._subplots.AxesSubplot at 0x7fa773a0aeb8>"
      ]
     },
     "execution_count": 65,
     "metadata": {},
     "output_type": "execute_result"
    },
    {
     "data": {
      "image/png": "[encoded data removed]",
      "text/plain": [
       "<matplotlib.figure.Figure at 0x7fa773a8d2b0>"
      ]
     },
     "metadata": {
      "needs_background": "light"
     },
     "output_type": "display_data"
    }
   ],
   "source": [
    "#查看length对于不同状态Churn的情况\n",
    "cusm_length = cusm.select('userID','Churn','length')\\\n",
    "                  .groupby('userID','Churn')\\\n",
    "                  .sum('length').toPandas()\n",
    "#cusm_length.head(10)\n",
    "sb.violinplot(data = cusm_length, x = 'Churn', y = 'sum(length)')"
   ]
  },
  {
   "cell_type": "code",
   "execution_count": 66,
   "metadata": {},
   "outputs": [
    {
     "data": {
      "text/plain": [
       "<matplotlib.axes._subplots.AxesSubplot at 0x7fa76bd6fa90>"
      ]
     },
     "execution_count": 66,
     "metadata": {},
     "output_type": "execute_result"
    },
    {
     "data": {
      "image/png": "[encoded data removed]",
      "text/plain": [
       "<matplotlib.figure.Figure at 0x7fa76b306b38>"
      ]
     },
     "metadata": {
      "needs_background": "light"
     },
     "output_type": "display_data"
    }
   ],
   "source": [
    "#查看gender对于不同状态Churn的情况\n",
    "cusm_gender = cusm.select('userid','Churn','gender').toPandas()\n",
    "cusm_gender.head(10)\n",
    "sb.countplot(data = cusm_gender,x = 'Churn',hue = 'gender')"
   ]
  },
  {
   "cell_type": "code",
   "execution_count": 67,
   "metadata": {},
   "outputs": [
    {
     "data": {
      "text/plain": [
       "<matplotlib.axes._subplots.AxesSubplot at 0x7fa7664ebe10>"
      ]
     },
     "execution_count": 67,
     "metadata": {},
     "output_type": "execute_result"
    },
    {
     "data": {
      "image/png": "[encoded data removed]",
      "text/plain": [
       "<matplotlib.figure.Figure at 0x7fa765d83668>"
      ]
     },
     "metadata": {
      "needs_background": "light"
     },
     "output_type": "display_data"
    }
   ],
   "source": [
    "#查看registration_weekday对于不同状态Churn的情况\n",
    "cusm_gender = cusm.select('userid','Churn','registration_weekday').toPandas()\n",
    "cusm_gender.head(10)\n",
    "sb.countplot(data = cusm_gender,y = 'registration_weekday',hue = 'Churn')"
   ]
  },
  {
   "cell_type": "code",
   "execution_count": 68,
   "metadata": {},
   "outputs": [
    {
     "data": {
      "text/plain": [
       "<matplotlib.axes._subplots.AxesSubplot at 0x7fa76b42bb38>"
      ]
     },
     "execution_count": 68,
     "metadata": {},
     "output_type": "execute_result"
    },
    {
     "data": {
      "image/png": "[encoded data removed]",
      "text/plain": [
       "<matplotlib.figure.Figure at 0x7fa76b42be80>"
      ]
     },
     "metadata": {
      "needs_background": "light"
     },
     "output_type": "display_data"
    }
   ],
   "source": [
    "#查看registration_month对于不同状态Churn的情况\n",
    "cusm_gender = cusm.select('userid','Churn','registration_month').toPandas()\n",
    "cusm_gender.head(10)\n",
    "sb.countplot(data = cusm_gender,y = 'registration_month',hue = 'Churn')"
   ]
  },
  {
   "cell_type": "code",
   "execution_count": 69,
   "metadata": {},
   "outputs": [
    {
     "data": {
      "text/plain": [
       "<matplotlib.axes._subplots.AxesSubplot at 0x7fa7667f5240>"
      ]
     },
     "execution_count": 69,
     "metadata": {},
     "output_type": "execute_result"
    },
    {
     "data": {
      "image/png": "[encoded data removed]",
      "text/plain": [
       "<matplotlib.figure.Figure at 0x7fa7667f5a20>"
      ]
     },
     "metadata": {
      "needs_background": "light"
     },
     "output_type": "display_data"
    }
   ],
   "source": [
    "#查看registration_day对于不同状态Churn的情况\n",
    "cusm_gender = cusm.select('userid','Churn','registration_day').toPandas()\n",
    "cusm_gender.head(10)\n",
    "sb.countplot(data = cusm_gender,y = 'registration_day',hue = 'Churn')"
   ]
  },
  {
   "cell_type": "code",
   "execution_count": 70,
   "metadata": {},
   "outputs": [
    {
     "data": {
      "text/plain": [
       "<matplotlib.axes._subplots.AxesSubplot at 0x7fa7674d9cf8>"
      ]
     },
     "execution_count": 70,
     "metadata": {},
     "output_type": "execute_result"
    },
    {
     "data": {
      "image/png": "[encoded data removed]",
      "text/plain": [
       "<matplotlib.figure.Figure at 0x7fa766cca4a8>"
      ]
     },
     "metadata": {
      "needs_background": "light"
     },
     "output_type": "display_data"
    }
   ],
   "source": [
    "#查看page对于不同状态Churn的情况\n",
    "cusm_level = cusm.select('userid','Churn','page').toPandas()\n",
    "cusm_level.head(10)\n",
    "sb.countplot(data = cusm_level,y = 'page',hue = 'Churn')"
   ]
  },
  {
   "cell_type": "code",
   "execution_count": 71,
   "metadata": {},
   "outputs": [
    {
     "data": {
      "text/plain": [
       "<matplotlib.axes._subplots.AxesSubplot at 0x7fa7671ccda0>"
      ]
     },
     "execution_count": 71,
     "metadata": {},
     "output_type": "execute_result"
    },
    {
     "data": {
      "image/png": "[encoded data removed]",
      "text/plain": [
       "<matplotlib.figure.Figure at 0x7fa7703f4b38>"
      ]
     },
     "metadata": {
      "needs_background": "light"
     },
     "output_type": "display_data"
    }
   ],
   "source": [
    "#查看page对于不同状态Churn的情况,筛选掉NextSong的数据\n",
    "cusm_level_2 = cusm.select('userid','Churn','page').filter(cusm.Page != 'NextSong').toPandas()\n",
    "#cusm_level_2.head(10)\n",
    "sb.countplot(data = cusm_level_2,y = 'page',hue = 'Churn')"
   ]
  },
  {
   "cell_type": "code",
   "execution_count": 72,
   "metadata": {},
   "outputs": [
    {
     "data": {
      "text/plain": [
       "<matplotlib.axes._subplots.AxesSubplot at 0x7fa7666b9550>"
      ]
     },
     "execution_count": 72,
     "metadata": {},
     "output_type": "execute_result"
    },
    {
     "data": {
      "image/png": "[encoded data removed]",
      "text/plain": [
       "<matplotlib.figure.Figure at 0x7fa7666b9860>"
      ]
     },
     "metadata": {
      "needs_background": "light"
     },
     "output_type": "display_data"
    }
   ],
   "source": [
    "#查看ts_weekday对于不同状态Churn的情况\n",
    "cusm_gender = cusm.select('userid','Churn','ts_weekday').toPandas()\n",
    "#cusm_gender.head(10)\n",
    "sb.countplot(data = cusm_gender,y = 'ts_weekday',hue = 'Churn')"
   ]
  },
  {
   "cell_type": "code",
   "execution_count": 73,
   "metadata": {},
   "outputs": [
    {
     "data": {
      "text/plain": [
       "<matplotlib.axes._subplots.AxesSubplot at 0x7fa770f92b00>"
      ]
     },
     "execution_count": 73,
     "metadata": {},
     "output_type": "execute_result"
    },
    {
     "data": {
      "image/png": "[encoded data removed]",
      "text/plain": [
       "<matplotlib.figure.Figure at 0x7fa7662a62b0>"
      ]
     },
     "metadata": {
      "needs_background": "light"
     },
     "output_type": "display_data"
    }
   ],
   "source": [
    "#查看ts_month对于不同状态Churn的情况\n",
    "cusm_gender = cusm.select('userid','Churn','ts_month').toPandas()\n",
    "#cusm_gender.head(10)\n",
    "sb.countplot(data = cusm_gender,y = 'ts_month',hue = 'Churn')"
   ]
  },
  {
   "cell_type": "code",
   "execution_count": 74,
   "metadata": {},
   "outputs": [
    {
     "data": {
      "text/plain": [
       "<matplotlib.axes._subplots.AxesSubplot at 0x7fa7661f7320>"
      ]
     },
     "execution_count": 74,
     "metadata": {},
     "output_type": "execute_result"
    },
    {
     "data": {
      "image/png": "[encoded data removed]",
      "text/plain": [
       "<matplotlib.figure.Figure at 0x7fa7711ac0b8>"
      ]
     },
     "metadata": {
      "needs_background": "light"
     },
     "output_type": "display_data"
    }
   ],
   "source": [
    "#查看ts_day对于不同状态Churn的情况\n",
    "cusm_gender = cusm.select('userid','Churn','ts_day').toPandas()\n",
    "#cusm_gender.head(10)\n",
    "sb.countplot(data = cusm_gender,y = 'ts_day',hue = 'Churn')"
   ]
  },
  {
   "cell_type": "code",
   "execution_count": 75,
   "metadata": {},
   "outputs": [
    {
     "data": {
      "text/plain": [
       "<matplotlib.axes._subplots.AxesSubplot at 0x7fa7689e04a8>"
      ]
     },
     "execution_count": 75,
     "metadata": {},
     "output_type": "execute_result"
    },
    {
     "data": {
      "image/png": "[encoded data removed]",
      "text/plain": [
       "<matplotlib.figure.Figure at 0x7fa7689e0b38>"
      ]
     },
     "metadata": {
      "needs_background": "light"
     },
     "output_type": "display_data"
    }
   ],
   "source": [
    "#查看area对于churn为1的情况\n",
    "cusm_gender = cusm.select('userid','Churn','area').filter(cusm.Churn == 1).toPandas()\n",
    "#cusm_gender.head(10)\n",
    "sb.countplot(data = cusm_gender,y = 'area',hue = 'Churn')"
   ]
  },
  {
   "cell_type": "code",
   "execution_count": 76,
   "metadata": {},
   "outputs": [
    {
     "data": {
      "text/plain": [
       "<matplotlib.axes._subplots.AxesSubplot at 0x7fa765c321d0>"
      ]
     },
     "execution_count": 76,
     "metadata": {},
     "output_type": "execute_result"
    },
    {
     "data": {
      "image/png": "[encoded data removed]",
      "text/plain": [
       "<matplotlib.figure.Figure at 0x7fa7709ec2e8>"
      ]
     },
     "metadata": {
      "needs_background": "light"
     },
     "output_type": "display_data"
    }
   ],
   "source": [
    "#查看area对于churn为0的情况\n",
    "cusm_gender = cusm.select('userid','Churn','area').filter(cusm.Churn == 0).toPandas()\n",
    "#cusm_gender.head(10)\n",
    "sb.countplot(data = cusm_gender,y = 'area',hue = 'Churn')"
   ]
  },
  {
   "cell_type": "code",
   "execution_count": 77,
   "metadata": {},
   "outputs": [
    {
     "data": {
      "text/plain": [
       "(array([ 8.,  4.,  5.,  3.,  4.,  0.,  1.,  4.,  0.,  2.]),\n",
       " array([  1. ,   6.8,  12.6,  18.4,  24.2,  30. ,  35.8,  41.6,  47.4,\n",
       "         53.2,  59. ]),\n",
       " <a list of 10 Patch objects>)"
      ]
     },
     "execution_count": 77,
     "metadata": {},
     "output_type": "execute_result"
    },
    {
     "data": {
      "image/png": "[encoded data removed]",
      "text/plain": [
       "<matplotlib.figure.Figure at 0x7fa77125c320>"
      ]
     },
     "metadata": {
      "needs_background": "light"
     },
     "output_type": "display_data"
    }
   ],
   "source": [
    "#查看ts_length对于churn为1的情况\n",
    "cusm_tslength1 = cusm.select('userid','Churn','ts_length').filter(cusm.Churn == 1).distinct().toPandas()\n",
    "plt.hist(data = cusm_tslength1, x = 'ts_length')\n",
    "#cusm_gender.head(10)\n",
    "#sb.countplot(data = cusm_tslength1,y = 'ts_length',hue = 'Churn')\n",
    "#sb.countplot(data = cusm_tslength1,y = 'ts_length',hue = 'Churn')\n"
   ]
  },
  {
   "cell_type": "code",
   "execution_count": 78,
   "metadata": {},
   "outputs": [
    {
     "data": {
      "text/plain": [
       "(array([ 14.,   3.,   6.,  11.,  11.,  10.,  11.,  14.,  19.,  35.]),\n",
       " array([  0. ,   6.1,  12.2,  18.3,  24.4,  30.5,  36.6,  42.7,  48.8,\n",
       "         54.9,  61. ]),\n",
       " <a list of 10 Patch objects>)"
      ]
     },
     "execution_count": 78,
     "metadata": {},
     "output_type": "execute_result"
    },
    {
     "data": {
      "image/png": "[encoded data removed]",
      "text/plain": [
       "<matplotlib.figure.Figure at 0x7fa7716b4dd8>"
      ]
     },
     "metadata": {
      "needs_background": "light"
     },
     "output_type": "display_data"
    }
   ],
   "source": [
    "#查看ts_length对于churn为0的情况\n",
    "cusm_tslength2 = cusm.select('userid','Churn','ts_length').filter(cusm.Churn == 0).distinct().toPandas()\n",
    "plt.hist(data = cusm_tslength2, x = 'ts_length')"
   ]
  },
  {
   "cell_type": "code",
   "execution_count": 25,
   "metadata": {},
   "outputs": [],
   "source": [
    "#df.filter(df.Churn == 1).select(['userid','Churn']).show(10)\n",
    "#df=df.drop('artist')\n",
    "#df.select('userId').groupby('userId').count().sort('count',ascending = False).show(10)\n",
    "#df.select('page').groupby('page').count().sort('count',ascending = False).show(10)"
   ]
  },
  {
   "cell_type": "markdown",
   "metadata": {},
   "source": [
    "# 特征工程\n",
    "熟悉了数据之后，就可以构建你认为会对训练模型帮助最大的特征。要处理完整数据集，你可以按照下述步骤：\n",
    "- 写一个脚本来从小数据集中提取你需要的特征\n",
    "- 确保你的脚本可以拓展到大数据集上，使用之前教过的最佳实践原则\n",
    "- 在完整数据集上运行你的脚本，按运行情况调试代码\n",
    "\n",
    "如果是在教室的 workspace，你可以直接用里面提供的小数据集来提取特征。确保当你开始使用 Spark 集群的时候，把上述的成果迁移到大数据集上。"
   ]
  },
  {
   "cell_type": "code",
   "execution_count": 79,
   "metadata": {},
   "outputs": [],
   "source": [
    "#经过分析，gender和length的数据差异较小，其余特征较明显，提取明显的特征生成一个原始的特征数据集\n",
    "#包含'ts_weekday', 'registration_weekday', 'ts_month', 'registration_month', 'page','area', 'churn','ts_length'\n",
    "df_data_raw = cusm.select('ts_weekday', 'registration_weekday', 'ts_month', 'registration_month', 'page','area', 'churn','ts_length')\n",
    "#将列churn修改为标签，label列\n",
    "df_data_raw = df_data_raw.withColumnRenamed('churn', 'label')"
   ]
  },
  {
   "cell_type": "code",
   "execution_count": 80,
   "metadata": {},
   "outputs": [],
   "source": [
    "#定义特征缩放，特征合并\n",
    "areaIndexer = StringIndexer(inputCol='area', outputCol='area_feature')\n",
    "pageIndexer = StringIndexer(inputCol='page', outputCol='page_feature')\n",
    "assembler = VectorAssembler(inputCols=['ts_weekday', 'registration_weekday', 'ts_month', 'registration_month', 'area_feature', 'page_feature', 'ts_length'], outputCol='features_vec')\n",
    "standardScaler = StandardScaler(inputCol='features_vec', outputCol='features')\n",
    "# 定义评估指标；labelCol原始列，predictionCol预测列\n",
    "evaluator = MulticlassClassificationEvaluator(labelCol=\"label\", predictionCol=\"prediction\")"
   ]
  },
  {
   "cell_type": "code",
   "execution_count": 81,
   "metadata": {},
   "outputs": [],
   "source": [
    "#将数据中的特征进行转化\n",
    "df_data = areaIndexer.fit(df_data_raw).transform(df_data_raw)\n",
    "df_data = pageIndexer.fit(df_data).transform(df_data)\n",
    "df_data = assembler.transform(df_data)\n",
    "df_data = standardScaler.fit(df_data).transform(df_data)"
   ]
  },
  {
   "cell_type": "markdown",
   "metadata": {},
   "source": [
    "# 建模\n",
    "将完整数据集分成训练集、测试集和验证集。测试几种你学过的机器学习方法。评价不同机器学习方法的准确率，根据情况调节参数。根据准确率你挑选出表现最好的那个模型，然后报告在训练集上的结果。因为流失顾客数据集很小，我建议选用 F1 score 作为优化指标。"
   ]
  },
  {
   "cell_type": "code",
   "execution_count": 82,
   "metadata": {},
   "outputs": [],
   "source": [
    "#处理过特征的数据集拆分\n",
    "df_train, df_test = df_data.randomSplit([0.8, 0.2], seed=45)\n",
    "#未处理过的特征的数据集拆分，用于后续的管道数据\n",
    "df_train_raw, df_test_raw = df_data_raw.randomSplit([0.8, 0.2], seed=45)\n",
    "#df_train.head()\n",
    "#df_train_raw.head()"
   ]
  },
  {
   "cell_type": "code",
   "execution_count": 36,
   "metadata": {},
   "outputs": [
    {
     "name": "stdout",
     "output_type": "stream",
     "text": [
      "Run Time: 2.86\n",
      "Logistic Regression Metrics:\n",
      "Accuracy: 0.9005455119246202\n",
      "F-1 Score:0.8920264111960107\n"
     ]
    }
   ],
   "source": [
    "#模型1使用逻辑回归分类\n",
    "#开始时间\n",
    "start_time = time.time()\n",
    "logist_lr = LogisticRegression(labelCol=\"label\", featuresCol=\"features\")\n",
    "logist_model = logist_lr.fit(df_train)\n",
    "logist_predict = logist_model.transform(df_test)\n",
    "logist_lr_accuracy = evaluator.evaluate(logist_predict, {evaluator.metricName: \"accuracy\"})\n",
    "logist_lr_f1score = evaluator.evaluate(logist_predict, {evaluator.metricName: \"f1\"})\n",
    "#结束时间\n",
    "end_time = time.time()\n",
    "\n",
    "print('Run Time: {}'.format(np.round(((end_time - start_time)/60),2)))\n",
    "print('Logistic Regression Metrics:')\n",
    "print('Accuracy: {}'.format(logist_lr_accuracy))\n",
    "print('F-1 Score:{}'.format(logist_lr_f1score))"
   ]
  },
  {
   "cell_type": "code",
   "execution_count": 38,
   "metadata": {},
   "outputs": [
    {
     "name": "stdout",
     "output_type": "stream",
     "text": [
      "Run Time: 9.34\n",
      "Gradient Boosted Trees Metrics:\n",
      "Accuracy: 0.9990081601370543\n",
      "F-1 Score:0.9990066264766313\n"
     ]
    }
   ],
   "source": [
    "#模型2使用梯度提升决策树\n",
    "#开始时间\n",
    "start_time = time.time()\n",
    "gbt_tf_lr = GBTClassifier(labelCol=\"label\", featuresCol=\"features\")\n",
    "gbt_tf_model = gbt_tf_lr.fit(df_train)\n",
    "gbt_tf_predict = gbt_tf_model.transform(df_test)\n",
    "gbt_tf_lr_accuracy = evaluator.evaluate(gbt_tf_predict, {evaluator.metricName: \"accuracy\"})\n",
    "gbt_tf_lr_f1score = evaluator.evaluate(gbt_tf_predict, {evaluator.metricName: \"f1\"})\n",
    "end_time = time.time()\n",
    "\n",
    "print('Run Time: {}'.format(np.round(((end_time - start_time)/60),2)))\n",
    "print('Gradient Boosted Trees Metrics:')\n",
    "print('Accuracy: {}'.format(gbt_tf_lr_accuracy))\n",
    "print('F-1 Score:{}'.format(gbt_tf_lr_f1score))"
   ]
  },
  {
   "cell_type": "code",
   "execution_count": 50,
   "metadata": {},
   "outputs": [
    {
     "name": "stdout",
     "output_type": "stream",
     "text": [
      "Run Time: 53.71\n",
      "SupportVectorMachine Metrics:\n",
      "Accuracy: 0.8927929869943235\n",
      "F-1 Score:0.8875748677620722\n"
     ]
    }
   ],
   "source": [
    "#模型3支持向量机\n",
    "#开始时间\n",
    "start_time = time.time()\n",
    "svm_tf_lr = LinearSVC(labelCol=\"label\", featuresCol=\"features\")\n",
    "svm_tf_model = svm_tf_lr.fit(df_train)\n",
    "svm_tf_predict = svm_tf_model.transform(df_test)\n",
    "svm_tf_lr_accuracy = evaluator.evaluate(svm_tf_predict, {evaluator.metricName: \"accuracy\"})\n",
    "svm_tf_lr_f1score = evaluator.evaluate(svm_tf_predict, {evaluator.metricName: \"f1\"})\n",
    "#结束时间\n",
    "end_time = time.time()\n",
    "\n",
    "print('Run Time: {}'.format(np.round(((end_time - start_time)/60),2)))\n",
    "print('SupportVectorMachine Metrics:')\n",
    "print('Accuracy: {}'.format(svm_tf_lr_accuracy))\n",
    "print('F-1 Score:{}'.format(svm_tf_lr_f1score))"
   ]
  },
  {
   "cell_type": "code",
   "execution_count": 37,
   "metadata": {},
   "outputs": [
    {
     "name": "stdout",
     "output_type": "stream",
     "text": [
      "Run Time: 1.95\n",
      "RandomForest Metrics:\n",
      "Accuracy: 0.9575312204138677\n",
      "F-1 Score:0.955139422226649\n"
     ]
    }
   ],
   "source": [
    "#模型4随机森林\n",
    "#开始时间\n",
    "start_time = time.time()\n",
    "rf_tf_lr = RandomForestClassifier(labelCol=\"label\", featuresCol=\"features\")\n",
    "rf_tf_model = rf_tf_lr.fit(df_train)\n",
    "rf_tf_predict = rf_tf_model.transform(df_test)\n",
    "rf_tf_lr_accuracy = evaluator.evaluate(rf_tf_predict, {evaluator.metricName: \"accuracy\"})\n",
    "rf_tf_lr_f1score = evaluator.evaluate(rf_tf_predict, {evaluator.metricName: \"f1\"})\n",
    "#结束时间\n",
    "end_time = time.time()\n",
    "\n",
    "print('Run Time: {}'.format(np.round(((end_time - start_time)/60),2)))\n",
    "print('RandomForest Metrics:')\n",
    "print('Accuracy: {}'.format(rf_tf_lr_accuracy))\n",
    "print('F-1 Score:{}'.format(rf_tf_lr_f1score))"
   ]
  },
  {
   "cell_type": "code",
   "execution_count": null,
   "metadata": {},
   "outputs": [],
   "source": [
    "#批量使用CrossValidator确认最佳参数，使用pipeline"
   ]
  },
  {
   "cell_type": "code",
   "execution_count": 20,
   "metadata": {},
   "outputs": [],
   "source": [
    "# 定义 Machine learning classifiers\n",
    "lr_classifier = LogisticRegression(maxIter=10,regParam=0.0,elasticNetParam=0)\n",
    "gbt_classifier = GBTClassifier(maxIter=10,seed=42)\n",
    "svm_classifier = LinearSVC(maxIter=10)\n",
    "rf_classifier = RandomForestClassifier()\n",
    "# 定义 pipelines\n",
    "lr_pipeline = Pipeline(stages=[areaIndexer,levelIndexer,assembler,standardScaler, lr_classifier]);\n",
    "gbt_pipeline = Pipeline(stages=[areaIndexer,levelIndexer,assembler,standardScaler, gbt_classifier]);\n",
    "svm_pipeline = Pipeline(stages=[areaIndexer,levelIndexer,assembler,standardScaler, svm_classifier]);\n",
    "rf_pipeline = Pipeline(stages=[areaIndexer,levelIndexer,assembler,standardScaler, rf_classifier]);"
   ]
  },
  {
   "cell_type": "code",
   "execution_count": 21,
   "metadata": {},
   "outputs": [],
   "source": [
    "def getAccuracyAndF1Scores(all_cores,train_data,test_data):\n",
    "    pd_results = []\n",
    "    pd_results = pd.DataFrame(pd_results)\n",
    "    pd_results['Evaluations'] = ['Accuracy','F1_Score']\n",
    "    # 循环遍历数组\n",
    "    for module_name, estimator, estimatorParamMap in all_cores:\n",
    "        start_time = time.time()\n",
    "        crossval = CrossValidator(estimator=estimator,\n",
    "                          estimatorParamMaps=estimatorParamMap,\n",
    "                          evaluator=MulticlassClassificationEvaluator(),\n",
    "                          numFolds=2)\n",
    "        model = crossval.fit(train_data)\n",
    "        predict = model.transform(test_data)\n",
    "        evaluator = MulticlassClassificationEvaluator(labelCol = \"label\",predictionCol=\"prediction\")\n",
    "        accuracy = evaluator.evaluate(predict, {evaluator.metricName: \"accuracy\"})\n",
    "        f1score = evaluator.evaluate(predict, {evaluator.metricName: \"f1\"})\n",
    "        \n",
    "        end_time = time.time()\n",
    "        print('Run Time: {}'.format(np.round(((end_time - start_time)/60),2)))\n",
    "        print(module_name, 'Metrics:')\n",
    "        print('Accuracy: {}'.format(accuracy))\n",
    "        print('F-1 Score:{}\\n'.format(f1score))\n",
    "        pd_results[module_name] = [accuracy,f1score]\n",
    "    return pd_results"
   ]
  },
  {
   "cell_type": "code",
   "execution_count": 22,
   "metadata": {},
   "outputs": [],
   "source": [
    "# 定义 param grids，\n",
    "lr_paramGrid = ParamGridBuilder() \\\n",
    "   .addGrid(lr_classifier.maxIter, [5, 10, 20]) \\\n",
    "   .build()\n",
    "\n",
    "gbt_paramGrid = ParamGridBuilder() \\\n",
    "   .addGrid(gbt_classifier.maxIter, [5, 10, 20]) \\\n",
    "   .build()\n",
    "\n",
    "svm_paramGrid = ParamGridBuilder() \\\n",
    "   .addGrid(svm_classifier.maxIter, [5, 10, 20]) \\\n",
    "   .build()\n",
    "\n",
    "rf_paramGrid = ParamGridBuilder() \\\n",
    "   .addGrid(rf_classifier.numTrees,[10, 25, 50, 100]) \\\n",
    "   .build()"
   ]
  },
  {
   "cell_type": "code",
   "execution_count": 23,
   "metadata": {},
   "outputs": [],
   "source": [
    "# 定义四种模型名称\n",
    "all_module_names = [\"Logistic Regression\", \"Gradient Boosted Trees\", \"Support Vector Machine\", \"Random Forest\"]\n",
    "# 定义CrossValidator的estimators参数\n",
    "all_estimators = [lr_pipeline, gbt_pipeline, svm_pipeline, rf_pipeline]\n",
    "# 定义CrossValidator的estimatorParamMaps参数\n",
    "all_estimatorParamMaps = [lr_paramGrid, gbt_paramGrid, svm_paramGrid, rf_paramGrid]\n",
    "\n",
    "# 定义遍历数组\n",
    "all_module_cores = list(zip(all_module_names, all_estimators, all_estimatorParamMaps))"
   ]
  },
  {
   "cell_type": "code",
   "execution_count": 24,
   "metadata": {},
   "outputs": [
    {
     "name": "stdout",
     "output_type": "stream",
     "text": [
      "1593741451.2618144\n",
      "Logistic Regression Pipeline_e68ac9448255\n",
      "Run Time: 5.66\n",
      "Logistic Regression Metrics:\n",
      "Accuracy: 0.894301932887835\n",
      "F-1 Score:0.8870340502744383\n",
      "\n",
      "1593741790.8247993\n",
      "Gradient Boosted Trees Pipeline_4a8ed54dde98\n",
      "Run Time: 22.61\n",
      "Gradient Boosted Trees Metrics:\n",
      "Accuracy: 0.9917726521520442\n",
      "F-1 Score:0.9918056526798342\n",
      "\n",
      "1593743147.6211643\n",
      "Support Vector Machine Pipeline_420b8c9040c5\n",
      "Run Time: 14.44\n",
      "Support Vector Machine Metrics:\n",
      "Accuracy: 0.8558597398864698\n",
      "F-1 Score:0.8139691531883612\n",
      "\n",
      "1593744013.781225\n",
      "Random Forest Pipeline_5275c73006a5\n",
      "Run Time: 11.25\n",
      "Random Forest Metrics:\n",
      "Accuracy: 0.9685276999353309\n",
      "F-1 Score:0.968360115682015\n",
      "\n"
     ]
    }
   ],
   "source": [
    "# 获取结果\n",
    "cores_result =  getAccuracyAndF1Scores(all_module_cores,df_train_raw,df_test_raw)"
   ]
  },
  {
   "cell_type": "markdown",
   "metadata": {},
   "source": [
    "# 总结\n",
    "清理你的代码，添加注释和重命名变量，使得代码更易读和易于维护。参考 Spark 项目概述页面和数据科学家毕业项目审阅要求，确保你的项目包含了毕业项目要求的所有内容，并且满足所有审阅要求。记得在 GitHub 代码库里包含一份全面的文档——README文件，以及一个网络应用程序或博客文章。"
   ]
  },
  {
   "cell_type": "markdown",
   "metadata": {},
   "source": [
    "Spark平台等类似的音乐平台，数据集主要包含用户的行为数据，通过分析提取了16个特征进行探索性分析，发现其中关联明显的提取登陆时间的周,提取注册时间的周, 提取登陆时间的月份,提取注册时间的月份, 提取登陆的页面，提取注册地区, 提取从最初登陆后最后一次登陆的时长，其中7个特征。部分数据经过2次处理。\n",
    "\n",
    "经过特征提取，特征标准化归一化等处理，生成的原始的待处理数据集。\n",
    "\n",
    "模型训练，因为该分析主要用分类模型，筛选了主要的几种分类方法，分别为 逻辑回归分类，梯度提升决策树，支持向量机，随机森林。其中逻辑回归，简单，效率好，易于并行。决策树易于理解，数据准备较简单，短时间内可得到效果，易于扩展到大型数据库。支持向量机适合小数量样本数据，可以解决高维问题，理论基础比较完善，较消计算资源。随机森林同样是决策树的一种，随机森林使用投票的策略。经过单独的训练发现，其中表现较好的为决策树分类的两种算法，其中回归算法效率最好。\n",
    "\n",
    "单独分析后，为了能扩展到spark分布处理，通过pipeline及 CrossValidator进一步组合进行参数优化找到的合适参数在支持向量表现差，随机森林优于单独进行模型训练，猜测支持向量有过渡拟合的情况。\n",
    "\n",
    "综合来看随机森林（Random Forest Metrics）在效率及预测得分方面综合较理想，故选用随机森林扩展训练。\n",
    "\n",
    "挑战及改进：\n",
    "1.对spark处理数据及展示的方法不熟悉，官网案例较少，花费了较长的时间。\n",
    "2.前期使用的部分特征，进行分析后发现效果不理想，然后又回头查找，发现增加area特征，删除length,level等信息。\n",
    "3.当前最好的模型预测得分为99%，实际超出了预期，考虑有过拟合的情况，或者提取更多的特征。"
   ]
  },
  {
   "cell_type": "code",
   "execution_count": null,
   "metadata": {},
   "outputs": [],
   "source": []
  }
 ],
 "metadata": {
  "kernelspec": {
   "display_name": "Python 3",
   "language": "python",
   "name": "python3"
  },
  "language_info": {
   "codemirror_mode": {
    "name": "ipython",
    "version": 3
   },
   "file_extension": ".py",
   "mimetype": "text/x-python",
   "name": "python",
   "nbconvert_exporter": "python",
   "pygments_lexer": "ipython3",
   "version": "3.6.3"
  }
 },
 "nbformat": 4,
 "nbformat_minor": 2
}
